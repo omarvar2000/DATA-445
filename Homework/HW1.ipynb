{
 "cells": [
  {
   "cell_type": "code",
   "execution_count": null,
   "id": "38616f62",
   "metadata": {},
   "outputs": [],
   "source": [
    "# 1) I would use a clustering algorithm to segment a company customers database into multiple groups"
   ]
  },
  {
   "cell_type": "code",
   "execution_count": null,
   "id": "ef6f5e78",
   "metadata": {},
   "outputs": [],
   "source": [
    "# 2) I would frame the problem of spam detection as a supervised learning, because their are two output options either spam or not spam."
   ]
  },
  {
   "cell_type": "code",
   "execution_count": null,
   "id": "83618026",
   "metadata": {},
   "outputs": [],
   "source": [
    "# 3) A test set is a portion of a data set and I would want to use one to test the future performance of a prediction or classificatio model.\n",
    "# "
   ]
  }
 ],
 "metadata": {
  "kernelspec": {
   "display_name": "conda_python3",
   "language": "python",
   "name": "conda_python3"
  },
  "language_info": {
   "codemirror_mode": {
    "name": "ipython",
    "version": 3
   },
   "file_extension": ".py",
   "mimetype": "text/x-python",
   "name": "python",
   "nbconvert_exporter": "python",
   "pygments_lexer": "ipython3",
   "version": "3.8.12"
  }
 },
 "nbformat": 4,
 "nbformat_minor": 5
}
