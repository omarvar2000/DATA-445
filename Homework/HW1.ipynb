{
 "cells": [
  {
   "cell_type": "code",
   "execution_count": 1,
   "id": "e3a47182",
   "metadata": {},
   "outputs": [],
   "source": [
    "##1 I would use a clustering algorithm to segment a company customers database into multiple groups"
   ]
  },
  {
   "cell_type": "code",
   "execution_count": 2,
   "id": "74cb41c6",
   "metadata": {},
   "outputs": [],
   "source": [
    "##2 I would frame the problem of spam detection as a supervised learning, because their are \n",
    "# two output options either spam or not spam."
   ]
  },
  {
   "cell_type": "code",
   "execution_count": 3,
   "id": "78e68524",
   "metadata": {},
   "outputs": [],
   "source": [
    "##3 A test set is a portion of a data set and I would want to use one to test the future performance \n",
    "# of a prediction or classificatio model."
   ]
  },
  {
   "cell_type": "code",
   "execution_count": null,
   "id": "b2846eb1",
   "metadata": {},
   "outputs": [],
   "source": [
    "##4 (e)"
   ]
  },
  {
   "cell_type": "code",
   "execution_count": 13,
   "id": "497b48b3",
   "metadata": {},
   "outputs": [
    {
     "data": {
      "text/html": [
       "<div>\n",
       "<style scoped>\n",
       "    .dataframe tbody tr th:only-of-type {\n",
       "        vertical-align: middle;\n",
       "    }\n",
       "\n",
       "    .dataframe tbody tr th {\n",
       "        vertical-align: top;\n",
       "    }\n",
       "\n",
       "    .dataframe thead th {\n",
       "        text-align: right;\n",
       "    }\n",
       "</style>\n",
       "<table border=\"1\" class=\"dataframe\">\n",
       "  <thead>\n",
       "    <tr style=\"text-align: right;\">\n",
       "      <th></th>\n",
       "      <th>No</th>\n",
       "      <th>transaction_date</th>\n",
       "      <th>house_age</th>\n",
       "      <th>distance_to_the_nearest_MRT_station</th>\n",
       "      <th>number_of_convenience_stores</th>\n",
       "      <th>latitude</th>\n",
       "      <th>longitude</th>\n",
       "      <th>house_price_of_unit_area</th>\n",
       "    </tr>\n",
       "  </thead>\n",
       "  <tbody>\n",
       "    <tr>\n",
       "      <th>0</th>\n",
       "      <td>1</td>\n",
       "      <td>2012.917</td>\n",
       "      <td>32.0</td>\n",
       "      <td>84.87882</td>\n",
       "      <td>10</td>\n",
       "      <td>24.98298</td>\n",
       "      <td>121.54024</td>\n",
       "      <td>37.9</td>\n",
       "    </tr>\n",
       "    <tr>\n",
       "      <th>1</th>\n",
       "      <td>2</td>\n",
       "      <td>2012.917</td>\n",
       "      <td>19.5</td>\n",
       "      <td>306.59470</td>\n",
       "      <td>9</td>\n",
       "      <td>24.98034</td>\n",
       "      <td>121.53951</td>\n",
       "      <td>42.2</td>\n",
       "    </tr>\n",
       "    <tr>\n",
       "      <th>2</th>\n",
       "      <td>3</td>\n",
       "      <td>2013.583</td>\n",
       "      <td>13.3</td>\n",
       "      <td>561.98450</td>\n",
       "      <td>5</td>\n",
       "      <td>24.98746</td>\n",
       "      <td>121.54391</td>\n",
       "      <td>47.3</td>\n",
       "    </tr>\n",
       "    <tr>\n",
       "      <th>3</th>\n",
       "      <td>4</td>\n",
       "      <td>2013.500</td>\n",
       "      <td>13.3</td>\n",
       "      <td>561.98450</td>\n",
       "      <td>5</td>\n",
       "      <td>24.98746</td>\n",
       "      <td>121.54391</td>\n",
       "      <td>54.8</td>\n",
       "    </tr>\n",
       "    <tr>\n",
       "      <th>4</th>\n",
       "      <td>5</td>\n",
       "      <td>2012.833</td>\n",
       "      <td>5.0</td>\n",
       "      <td>390.56840</td>\n",
       "      <td>5</td>\n",
       "      <td>24.97937</td>\n",
       "      <td>121.54245</td>\n",
       "      <td>43.1</td>\n",
       "    </tr>\n",
       "  </tbody>\n",
       "</table>\n",
       "</div>"
      ],
      "text/plain": [
       "   No  transaction_date  house_age  distance_to_the_nearest_MRT_station  \\\n",
       "0   1          2012.917       32.0                             84.87882   \n",
       "1   2          2012.917       19.5                            306.59470   \n",
       "2   3          2013.583       13.3                            561.98450   \n",
       "3   4          2013.500       13.3                            561.98450   \n",
       "4   5          2012.833        5.0                            390.56840   \n",
       "\n",
       "   number_of_convenience_stores  latitude  longitude  house_price_of_unit_area  \n",
       "0                            10  24.98298  121.54024                      37.9  \n",
       "1                             9  24.98034  121.53951                      42.2  \n",
       "2                             5  24.98746  121.54391                      47.3  \n",
       "3                             5  24.98746  121.54391                      54.8  \n",
       "4                             5  24.97937  121.54245                      43.1  "
      ]
     },
     "execution_count": 13,
     "metadata": {},
     "output_type": "execute_result"
    }
   ],
   "source": [
    "##5a\n",
    "import boto3\n",
    "import pandas as pd; pd.set_option('display.max_columns', 100)\n",
    "import numpy as np\n",
    "\n",
    "s3 = boto3.resource('s3')\n",
    "bucket_name = 'omar-vargas-bucket'\n",
    "bucket = s3.Bucket(bucket_name)\n",
    "\n",
    "file_key = 'Real_Estate.csv'\n",
    "\n",
    "bucket_object = bucket.Object(file_key)\n",
    "file_object = bucket_object.get()\n",
    "file_content_stream = file_object.get('Body')\n",
    "\n",
    "#Reading the data-file\n",
    "house_price = pd.read_csv(file_content_stream)\n",
    "house_price.head()"
   ]
  },
  {
   "cell_type": "code",
   "execution_count": 14,
   "id": "2d49f763",
   "metadata": {},
   "outputs": [
    {
     "data": {
      "text/html": [
       "<div>\n",
       "<style scoped>\n",
       "    .dataframe tbody tr th:only-of-type {\n",
       "        vertical-align: middle;\n",
       "    }\n",
       "\n",
       "    .dataframe tbody tr th {\n",
       "        vertical-align: top;\n",
       "    }\n",
       "\n",
       "    .dataframe thead th {\n",
       "        text-align: right;\n",
       "    }\n",
       "</style>\n",
       "<table border=\"1\" class=\"dataframe\">\n",
       "  <thead>\n",
       "    <tr style=\"text-align: right;\">\n",
       "      <th></th>\n",
       "      <th>house_age</th>\n",
       "      <th>distance_to_the_nearest_MRT_station</th>\n",
       "      <th>number_of_convenience_stores</th>\n",
       "      <th>latitude</th>\n",
       "      <th>longitude</th>\n",
       "      <th>house_price_of_unit_area</th>\n",
       "    </tr>\n",
       "  </thead>\n",
       "  <tbody>\n",
       "    <tr>\n",
       "      <th>0</th>\n",
       "      <td>32.0</td>\n",
       "      <td>84.87882</td>\n",
       "      <td>10</td>\n",
       "      <td>24.98298</td>\n",
       "      <td>121.54024</td>\n",
       "      <td>37.9</td>\n",
       "    </tr>\n",
       "    <tr>\n",
       "      <th>1</th>\n",
       "      <td>19.5</td>\n",
       "      <td>306.59470</td>\n",
       "      <td>9</td>\n",
       "      <td>24.98034</td>\n",
       "      <td>121.53951</td>\n",
       "      <td>42.2</td>\n",
       "    </tr>\n",
       "    <tr>\n",
       "      <th>2</th>\n",
       "      <td>13.3</td>\n",
       "      <td>561.98450</td>\n",
       "      <td>5</td>\n",
       "      <td>24.98746</td>\n",
       "      <td>121.54391</td>\n",
       "      <td>47.3</td>\n",
       "    </tr>\n",
       "    <tr>\n",
       "      <th>3</th>\n",
       "      <td>13.3</td>\n",
       "      <td>561.98450</td>\n",
       "      <td>5</td>\n",
       "      <td>24.98746</td>\n",
       "      <td>121.54391</td>\n",
       "      <td>54.8</td>\n",
       "    </tr>\n",
       "    <tr>\n",
       "      <th>4</th>\n",
       "      <td>5.0</td>\n",
       "      <td>390.56840</td>\n",
       "      <td>5</td>\n",
       "      <td>24.97937</td>\n",
       "      <td>121.54245</td>\n",
       "      <td>43.1</td>\n",
       "    </tr>\n",
       "  </tbody>\n",
       "</table>\n",
       "</div>"
      ],
      "text/plain": [
       "   house_age  distance_to_the_nearest_MRT_station  \\\n",
       "0       32.0                             84.87882   \n",
       "1       19.5                            306.59470   \n",
       "2       13.3                            561.98450   \n",
       "3       13.3                            561.98450   \n",
       "4        5.0                            390.56840   \n",
       "\n",
       "   number_of_convenience_stores  latitude  longitude  house_price_of_unit_area  \n",
       "0                            10  24.98298  121.54024                      37.9  \n",
       "1                             9  24.98034  121.53951                      42.2  \n",
       "2                             5  24.98746  121.54391                      47.3  \n",
       "3                             5  24.98746  121.54391                      54.8  \n",
       "4                             5  24.97937  121.54245                      43.1  "
      ]
     },
     "execution_count": 14,
     "metadata": {},
     "output_type": "execute_result"
    }
   ],
   "source": [
    "##5b\n",
    "#Dropping No and transaction date columns\n",
    "house_price = house_price.drop(columns = ['No', 'transaction_date'], axis = 1)\n",
    "house_price.head()"
   ]
  },
  {
   "cell_type": "code",
   "execution_count": 15,
   "id": "09bc604d",
   "metadata": {},
   "outputs": [],
   "source": [
    "##5c\n",
    "from sklearn.model_selection import train_test_split\n",
    "\n",
    "#Defining the input and target\n",
    "X = house_price.drop(columns = 'house_price_of_unit_area', axis = 1)\n",
    "Y = house_price['house_price_of_unit_area']\n",
    "\n",
    "#Splitting the data\n",
    "X_train, X_test, Y_train, Y_test = train_test_split(X, Y, test_size = 0.2)"
   ]
  },
  {
   "cell_type": "code",
   "execution_count": 16,
   "id": "de69164c",
   "metadata": {},
   "outputs": [
    {
     "name": "stdout",
     "output_type": "stream",
     "text": [
      "The MSE for model 1 is: 51.848257827603874\n"
     ]
    }
   ],
   "source": [
    "##5d\n",
    "from sklearn.linear_model import LinearRegression\n",
    "\n",
    "#Building the linear model 1\n",
    "lm_md1 = LinearRegression().fit(X_train, Y_train)\n",
    "\n",
    "#Predicting on test\n",
    "lm_pred1 = lm_md1.predict(X_test)\n",
    "\n",
    "#Computing the mse\n",
    "mse1 = np.mean((Y_test - lm_pred1)**2)\n",
    "print('The MSE for model 1 is:', mse1)"
   ]
  },
  {
   "cell_type": "code",
   "execution_count": 17,
   "id": "47c2b41d",
   "metadata": {},
   "outputs": [],
   "source": [
    "##5e\n",
    "#Defining the input and target\n",
    "X1 = house_price[['house_age', 'number_of_convenience_stores', 'latitude', 'longitude']]\n",
    "Y1 = house_price['house_price_of_unit_area']\n",
    "\n",
    "#Splitting the data\n",
    "X1_train, X1_test, Y1_train, Y1_test = train_test_split(X1, Y1, test_size = 0.2)"
   ]
  },
  {
   "cell_type": "code",
   "execution_count": 18,
   "id": "56dacb37",
   "metadata": {},
   "outputs": [
    {
     "name": "stdout",
     "output_type": "stream",
     "text": [
      "The MSE for model 2 is: 63.38238854265995\n"
     ]
    }
   ],
   "source": [
    "##5e\n",
    "#Building the linear model 2\n",
    "lm_md2 = LinearRegression().fit(X1_train, Y1_train)\n",
    "\n",
    "#Predicting on test\n",
    "lm_pred2 = lm_md2.predict(X1_test)\n",
    "\n",
    "#Computing the mse\n",
    "mse2 = np.mean((Y1_test - lm_pred2)**2)\n",
    "print('The MSE for model 2 is:', mse2)"
   ]
  },
  {
   "cell_type": "code",
   "execution_count": 19,
   "id": "0cc3e8a3",
   "metadata": {},
   "outputs": [],
   "source": [
    "##5f I would use the first model because the MSE was significantly smaller."
   ]
  },
  {
   "cell_type": "code",
   "execution_count": 26,
   "id": "6dc4c0a6",
   "metadata": {},
   "outputs": [],
   "source": [
    "##5g \n",
    "#Creating lists for results\n",
    "mse1_results = list()\n",
    "mse2_results = list()\n",
    "\n",
    "for x in range(0, 100):\n",
    "    \n",
    "    #Defining the input and target\n",
    "    X = house_price.drop(columns = 'house_price_of_unit_area', axis = 1)\n",
    "    Y = house_price['house_price_of_unit_area']\n",
    "    \n",
    "    #Splitting the data\n",
    "    X_train, X_test, Y_train, Y_test = train_test_split(X, Y, test_size = 0.2)\n",
    "    \n",
    "    #Building the linear model 1\n",
    "    lm_md1 = LinearRegression().fit(X_train, Y_train)\n",
    "    \n",
    "    #Predicting on test\n",
    "    lm_pred1 = lm_md1.predict(X_test)\n",
    "    \n",
    "    #Computing the mse and appending to list\n",
    "    mse1_results.append(np.mean((Y_test - lm_pred1)**2))\n",
    "    \n",
    "    #Defining the input and target\n",
    "    X1 = house_price[['house_age', 'number_of_convenience_stores', 'latitude', 'longitude']]\n",
    "    Y1 = house_price['house_price_of_unit_area']\n",
    "    \n",
    "    #Splitting the data\n",
    "    X1_train, X1_test, Y1_train, Y1_test = train_test_split(X1, Y1, test_size = 0.2)\n",
    "    \n",
    "    #Building the linear model 2\n",
    "    lm_md2 = LinearRegression().fit(X1_train, Y1_train)\n",
    "\n",
    "    #Predicting on test\n",
    "    lm_pred2 = lm_md2.predict(X1_test)\n",
    "\n",
    "    #Computing the mse and appending to list\n",
    "    mse2_results.append(np.mean((Y1_test - lm_pred2)**2))"
   ]
  },
  {
   "cell_type": "code",
   "execution_count": 29,
   "id": "a38c305b",
   "metadata": {},
   "outputs": [
    {
     "data": {
      "image/png": "[encoded data removed]",
      "text/plain": [
       "<Figure size 432x288 with 1 Axes>"
      ]
     },
     "metadata": {
      "needs_background": "light"
     },
     "output_type": "display_data"
    }
   ],
   "source": [
    "##5g\n",
    "import matplotlib.pyplot as plt\n",
    "\n",
    "plt.plot([i for i in range(0,100)], mse1_results, color = 'red')\n",
    "plt.plot([i for i in range(0,100)], mse2_results, color = 'blue')\n",
    "plt.ylabel('MSE')\n",
    "plt.xlabel('Number of tests')\n",
    "plt.show()"
   ]
  },
  {
   "cell_type": "code",
   "execution_count": 30,
   "id": "8f8269f4",
   "metadata": {},
   "outputs": [],
   "source": [
    "#Based on the graph, we can see that model 1 in red had more MSE's closer to 0 than model 2. So model 1 had\n",
    "#better performance on the test datasets."
   ]
  }
 ],
 "metadata": {
  "kernelspec": {
   "display_name": "conda_python3",
   "language": "python",
   "name": "conda_python3"
  },
  "language_info": {
   "codemirror_mode": {
    "name": "ipython",
    "version": 3
   },
   "file_extension": ".py",
   "mimetype": "text/x-python",
   "name": "python",
   "nbconvert_exporter": "python",
   "pygments_lexer": "ipython3",
   "version": "3.8.12"
  }
 },
 "nbformat": 4,
 "nbformat_minor": 5
}
